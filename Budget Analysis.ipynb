{
 "cells": [
  {
   "cell_type": "code",
   "execution_count": 2,
   "metadata": {},
   "outputs": [
    {
     "name": "stdout",
     "output_type": "stream",
     "text": [
      "0.4782165047595302\n",
      "0.22251266804176356\n",
      "0.04942149657983149\n",
      "0.2498493306188747\n"
     ]
    }
   ],
   "source": [
    "nn_food = 656.25 + 525.00 + 1256.25 +1526.00\n",
    "nn_dec = 982.75\n",
    "nn_com = 694.97\n",
    "nn_act = 2693.01\n",
    "\n",
    "ss_food = 4295.96\n",
    "ss_dec = 4494.34\n",
    "ss_com = 760.94\n",
    "ss_act = 2014.66\n",
    "\n",
    "lig_food = 6000.0\n",
    "lig_dec = 2392.86\n",
    "lig_com = 431.99\n",
    "lig_act = 5683.93\n",
    "\n",
    "mm_food = 12861.91\n",
    "mm_dec = 4749.54\n",
    "mm_com = 914.97\n",
    "mm_act = 3778.25\n",
    "\n",
    "food = nn_food+ss_food+lig_food+mm_food\n",
    "dec = nn_dec+ss_dec+lig_dec+mm_dec\n",
    "com = nn_com+ss_com+lig_com+mm_com\n",
    "act = nn_act+ss_act+lig_act+mm_act\n",
    "tot = food+dec+com+act\n",
    "foodProp = food/tot\n",
    "decProp = dec/tot\n",
    "comProp = com/tot\n",
    "actProp = act/tot\n",
    "\n",
    "print(f\"{foodProp}\\n{decProp}\\n{comProp}\\n{actProp}\")"
   ]
  }
 ],
 "metadata": {
  "kernelspec": {
   "display_name": "base",
   "language": "python",
   "name": "python3"
  },
  "language_info": {
   "codemirror_mode": {
    "name": "ipython",
    "version": 3
   },
   "file_extension": ".py",
   "mimetype": "text/x-python",
   "name": "python",
   "nbconvert_exporter": "python",
   "pygments_lexer": "ipython3",
   "version": "3.12.4"
  }
 },
 "nbformat": 4,
 "nbformat_minor": 2
}
